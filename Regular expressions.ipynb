{
 "cells": [
  {
   "cell_type": "code",
   "execution_count": 1,
   "id": "636c3dc5-1a67-4fa9-a5cb-dc299eb613e3",
   "metadata": {},
   "outputs": [],
   "source": [
    "import re "
   ]
  },
  {
   "cell_type": "code",
   "execution_count": 2,
   "id": "d43390df-07ca-47fb-9ecb-8fa8d7f238b9",
   "metadata": {},
   "outputs": [
    {
     "name": "stdout",
     "output_type": "stream",
     "text": [
      "C:\\desktop\\notes\n"
     ]
    }
   ],
   "source": [
    "my_folder = r\"C:\\desktop\\notes\"\n",
    "print(my_folder)"
   ]
  },
  {
   "cell_type": "code",
   "execution_count": 3,
   "id": "89d8d6a9-5cf1-4863-82b6-4ddd0688bbf3",
   "metadata": {},
   "outputs": [],
   "source": [
    "result_search = re.search(\"pattern\", r\"string to contain the pattern\")"
   ]
  },
  {
   "cell_type": "code",
   "execution_count": 4,
   "id": "1bcc7aca-c4e0-4726-ab0a-85d5877f99bf",
   "metadata": {},
   "outputs": [
    {
     "name": "stdout",
     "output_type": "stream",
     "text": [
      "<re.Match object; span=(22, 29), match='pattern'>\n"
     ]
    }
   ],
   "source": [
    "print(result_search)"
   ]
  },
  {
   "cell_type": "code",
   "execution_count": 5,
   "id": "b2326ee1-fb2d-4e72-8efa-27e267f80949",
   "metadata": {},
   "outputs": [
    {
     "name": "stdout",
     "output_type": "stream",
     "text": [
      "None\n"
     ]
    }
   ],
   "source": [
    "result_search_2 = re.search(\"pattern\", r\"the phrase to find isn't in this string\")\n",
    "print(result_search_2)"
   ]
  },
  {
   "cell_type": "code",
   "execution_count": 6,
   "id": "26c4fc85-c027-4ceb-8329-8e0985791315",
   "metadata": {},
   "outputs": [],
   "source": [
    "string = r\"sara was able to help mme find the items I needed quickly\""
   ]
  },
  {
   "cell_type": "code",
   "execution_count": 7,
   "id": "9fb00766-a1c2-4bd2-93d1-5ce5e1df9ce3",
   "metadata": {},
   "outputs": [
    {
     "name": "stdout",
     "output_type": "stream",
     "text": [
      "sarah was able to help mme find the items I needed quickly\n"
     ]
    }
   ],
   "source": [
    "new_string = re.sub(\"sara\", \"sarah\", string)\n",
    "print(new_string)"
   ]
  },
  {
   "cell_type": "code",
   "execution_count": 8,
   "id": "9b338649-5f9b-4061-ab5e-63a77e9ba1a3",
   "metadata": {},
   "outputs": [],
   "source": [
    "customer_reviews = [\"sam was a great help to me in the store\",\n",
    "                    \"the cashir was very rude to me , I think her name was eleanor\",\n",
    "                    \"amazing work from sadeen!\",\n",
    "                    \"sarah was able to help me find the items I needed quickly\",\n",
    "                    \"great service from sara she found me what i wanted\"]"
   ]
  },
  {
   "cell_type": "code",
   "execution_count": 9,
   "id": "c389ff26-2b3a-47f6-816f-7576cfbe1ca7",
   "metadata": {},
   "outputs": [],
   "source": [
    "sarahs_reviews = []"
   ]
  },
  {
   "cell_type": "code",
   "execution_count": 10,
   "id": "c8fba159-a88c-4616-843b-d2f310c1746a",
   "metadata": {},
   "outputs": [],
   "source": [
    "pattern_to_find = r\"sarah?\""
   ]
  },
  {
   "cell_type": "code",
   "execution_count": 11,
   "id": "05c99ce3-99a8-4af8-8fa0-92b5c3266de9",
   "metadata": {},
   "outputs": [],
   "source": [
    "for string in customer_reviews:\n",
    "    if (re.search(pattern_to_find, string)):\n",
    "        sarahs_reviews.append(string)"
   ]
  },
  {
   "cell_type": "code",
   "execution_count": 12,
   "id": "7a559456-771b-4cf0-8332-4efdee171eb2",
   "metadata": {},
   "outputs": [
    {
     "name": "stdout",
     "output_type": "stream",
     "text": [
      "['sarah was able to help me find the items I needed quickly', 'great service from sara she found me what i wanted']\n"
     ]
    }
   ],
   "source": [
    "print(sarahs_reviews)"
   ]
  },
  {
   "cell_type": "code",
   "execution_count": 13,
   "id": "e92ab865-0be8-4d8f-b843-3a151cb57ca1",
   "metadata": {},
   "outputs": [],
   "source": [
    "a_reviews = []\n",
    "pattern_to_find = r\"^a\"\n",
    "\n",
    "for string in customer_reviews:\n",
    "    if(re.search(pattern_to_find, string)):\n",
    "        a_reviews.append(string)"
   ]
  },
  {
   "cell_type": "code",
   "execution_count": 14,
   "id": "eecefe82-1de1-4581-bbf1-90b62710f46a",
   "metadata": {},
   "outputs": [
    {
     "name": "stdout",
     "output_type": "stream",
     "text": [
      "['amazing work from sadeen!']\n"
     ]
    }
   ],
   "source": [
    "print(a_reviews)"
   ]
  },
  {
   "cell_type": "code",
   "execution_count": 15,
   "id": "21c6f87b-86b5-4473-ab61-579ad44ce535",
   "metadata": {},
   "outputs": [],
   "source": [
    "y_reviews = []\n",
    "pattern_to_find = r\"y$\"\n",
    "\n",
    "for string in customer_reviews:\n",
    "    if(re.search(pattern_to_find, string)):\n",
    "        y_reviews.append(string)"
   ]
  },
  {
   "cell_type": "code",
   "execution_count": 16,
   "id": "de3bd83c-e394-48f6-8c74-18935ef3f4b0",
   "metadata": {},
   "outputs": [
    {
     "name": "stdout",
     "output_type": "stream",
     "text": [
      "['sarah was able to help me find the items I needed quickly']\n"
     ]
    }
   ],
   "source": [
    "print(y_reviews)"
   ]
  },
  {
   "cell_type": "code",
   "execution_count": 17,
   "id": "cb944492-a581-4f19-862e-034265856699",
   "metadata": {},
   "outputs": [],
   "source": [
    "needwant_reviews = []\n",
    "pattern_to_find = r\"(need|want)ed\"\n",
    "\n",
    "for string in customer_reviews:\n",
    "    if (re.search(pattern_to_find, string)):\n",
    "        needwant_reviews.append(string)\n"
   ]
  },
  {
   "cell_type": "code",
   "execution_count": 18,
   "id": "4445fa1c-44fb-4ffb-8299-6db7ff6c7dad",
   "metadata": {},
   "outputs": [
    {
     "name": "stdout",
     "output_type": "stream",
     "text": [
      "['sarah was able to help me find the items I needed quickly', 'great service from sara she found me what i wanted']\n"
     ]
    }
   ],
   "source": [
    "print(needwant_reviews)"
   ]
  },
  {
   "cell_type": "code",
   "execution_count": 19,
   "id": "7cea2369-ae91-4c2e-88ed-b2845fde0c8b",
   "metadata": {},
   "outputs": [],
   "source": [
    "no_punct_reviews = []\n",
    "pattern_to_find = r\"[^\\w\\s]\""
   ]
  },
  {
   "cell_type": "code",
   "execution_count": 20,
   "id": "2b11a1a2-52e1-4665-9b7d-03b946fbcdf1",
   "metadata": {},
   "outputs": [],
   "source": [
    "for string in customer_reviews:\n",
    "    no_punct_string = re.sub(pattern_to_find, \"\", string)\n",
    "    no_punct_reviews.append(no_punct_string)"
   ]
  },
  {
   "cell_type": "code",
   "execution_count": 21,
   "id": "e43f7946-c1eb-4a14-bfcd-3562831fc565",
   "metadata": {},
   "outputs": [
    {
     "name": "stdout",
     "output_type": "stream",
     "text": [
      "['sam was a great help to me in the store', 'the cashir was very rude to me  I think her name was eleanor', 'amazing work from sadeen', 'sarah was able to help me find the items I needed quickly', 'great service from sara she found me what i wanted']\n"
     ]
    }
   ],
   "source": [
    "print(no_punct_reviews)"
   ]
  },
  {
   "cell_type": "code",
   "execution_count": null,
   "id": "2a4e1e4f-69d7-423a-86e1-53aae0950dbd",
   "metadata": {},
   "outputs": [],
   "source": []
  }
 ],
 "metadata": {
  "kernelspec": {
   "display_name": "Python 3 (ipykernel)",
   "language": "python",
   "name": "python3"
  },
  "language_info": {
   "codemirror_mode": {
    "name": "ipython",
    "version": 3
   },
   "file_extension": ".py",
   "mimetype": "text/x-python",
   "name": "python",
   "nbconvert_exporter": "python",
   "pygments_lexer": "ipython3",
   "version": "3.13.5"
  }
 },
 "nbformat": 4,
 "nbformat_minor": 5
}
