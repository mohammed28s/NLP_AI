{
 "cells": [
  {
   "cell_type": "code",
   "execution_count": null,
   "id": "b963a1d8-14f6-483f-beb8-62330c20caba",
   "metadata": {},
   "outputs": [],
   "source": []
  }
 ],
 "metadata": {
  "kernelspec": {
   "display_name": "",
   "name": ""
  },
  "language_info": {
   "name": ""
  }
 },
 "nbformat": 4,
 "nbformat_minor": 5
}
