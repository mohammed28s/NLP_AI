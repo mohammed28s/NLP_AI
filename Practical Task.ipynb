{
 "cells": [
  {
   "cell_type": "code",
   "execution_count": 1,
   "id": "f963cd49-ff67-43a7-90b0-b6caa753272f",
   "metadata": {},
   "outputs": [],
   "source": [
    "import nltk \n",
    "from nltk.tokenize import word_tokenize\n",
    "from nltk.stem import PorterStemmer, WordNetLemmatizer\n",
    "from nltk.corpus import stopwords\n",
    "import re \n",
    "import pandas as pd "
   ]
  },
  {
   "cell_type": "code",
   "execution_count": 2,
   "id": "8ead6f81-8d90-4019-8522-08488951ca02",
   "metadata": {},
   "outputs": [],
   "source": [
    "data = pd.read_csv(\"tripadvisor_hotel_reviews.csv\")"
   ]
  },
  {
   "cell_type": "code",
   "execution_count": 3,
   "id": "25293978-9f13-4660-a4b8-839f03106d22",
   "metadata": {},
   "outputs": [
    {
     "name": "stdout",
     "output_type": "stream",
     "text": [
      "<class 'pandas.core.frame.DataFrame'>\n",
      "RangeIndex: 109 entries, 0 to 108\n",
      "Data columns (total 2 columns):\n",
      " #   Column  Non-Null Count  Dtype \n",
      "---  ------  --------------  ----- \n",
      " 0   Review  109 non-null    object\n",
      " 1   Rating  109 non-null    int64 \n",
      "dtypes: int64(1), object(1)\n",
      "memory usage: 1.8+ KB\n"
     ]
    }
   ],
   "source": [
    "data.info()"
   ]
  },
  {
   "cell_type": "code",
   "execution_count": 4,
   "id": "dfe7e3ea-2089-46e3-b654-9e4f1e252a01",
   "metadata": {},
   "outputs": [
    {
     "data": {
      "text/html": [
       "<div>\n",
       "<style scoped>\n",
       "    .dataframe tbody tr th:only-of-type {\n",
       "        vertical-align: middle;\n",
       "    }\n",
       "\n",
       "    .dataframe tbody tr th {\n",
       "        vertical-align: top;\n",
       "    }\n",
       "\n",
       "    .dataframe thead th {\n",
       "        text-align: right;\n",
       "    }\n",
       "</style>\n",
       "<table border=\"1\" class=\"dataframe\">\n",
       "  <thead>\n",
       "    <tr style=\"text-align: right;\">\n",
       "      <th></th>\n",
       "      <th>Review</th>\n",
       "      <th>Rating</th>\n",
       "    </tr>\n",
       "  </thead>\n",
       "  <tbody>\n",
       "    <tr>\n",
       "      <th>0</th>\n",
       "      <td>nice hotel expensive parking got good deal sta...</td>\n",
       "      <td>4</td>\n",
       "    </tr>\n",
       "    <tr>\n",
       "      <th>1</th>\n",
       "      <td>ok nothing special charge diamond member hilto...</td>\n",
       "      <td>2</td>\n",
       "    </tr>\n",
       "    <tr>\n",
       "      <th>2</th>\n",
       "      <td>nice rooms not 4* experience hotel monaco seat...</td>\n",
       "      <td>3</td>\n",
       "    </tr>\n",
       "    <tr>\n",
       "      <th>3</th>\n",
       "      <td>unique, great stay, wonderful time hotel monac...</td>\n",
       "      <td>5</td>\n",
       "    </tr>\n",
       "    <tr>\n",
       "      <th>4</th>\n",
       "      <td>great stay great stay, went seahawk game aweso...</td>\n",
       "      <td>5</td>\n",
       "    </tr>\n",
       "  </tbody>\n",
       "</table>\n",
       "</div>"
      ],
      "text/plain": [
       "                                              Review  Rating\n",
       "0  nice hotel expensive parking got good deal sta...       4\n",
       "1  ok nothing special charge diamond member hilto...       2\n",
       "2  nice rooms not 4* experience hotel monaco seat...       3\n",
       "3  unique, great stay, wonderful time hotel monac...       5\n",
       "4  great stay great stay, went seahawk game aweso...       5"
      ]
     },
     "execution_count": 4,
     "metadata": {},
     "output_type": "execute_result"
    }
   ],
   "source": [
    "data.head()"
   ]
  },
  {
   "cell_type": "code",
   "execution_count": 5,
   "id": "e8324faf-eeab-41ad-aa14-e4aca91fbfed",
   "metadata": {},
   "outputs": [
    {
     "data": {
      "text/html": [
       "<div>\n",
       "<style scoped>\n",
       "    .dataframe tbody tr th:only-of-type {\n",
       "        vertical-align: middle;\n",
       "    }\n",
       "\n",
       "    .dataframe tbody tr th {\n",
       "        vertical-align: top;\n",
       "    }\n",
       "\n",
       "    .dataframe thead th {\n",
       "        text-align: right;\n",
       "    }\n",
       "</style>\n",
       "<table border=\"1\" class=\"dataframe\">\n",
       "  <thead>\n",
       "    <tr style=\"text-align: right;\">\n",
       "      <th></th>\n",
       "      <th>Review</th>\n",
       "      <th>Rating</th>\n",
       "    </tr>\n",
       "  </thead>\n",
       "  <tbody>\n",
       "    <tr>\n",
       "      <th>104</th>\n",
       "      <td>fairmont hotel singapore splendid, stayed fair...</td>\n",
       "      <td>5</td>\n",
       "    </tr>\n",
       "    <tr>\n",
       "      <th>105</th>\n",
       "      <td>great hotel stayed hotel night route perth chr...</td>\n",
       "      <td>4</td>\n",
       "    </tr>\n",
       "    <tr>\n",
       "      <th>106</th>\n",
       "      <td>great hotel centre stayed 5 nights room overlo...</td>\n",
       "      <td>4</td>\n",
       "    </tr>\n",
       "    <tr>\n",
       "      <th>107</th>\n",
       "      <td>great location great value great hotel husband...</td>\n",
       "      <td>5</td>\n",
       "    </tr>\n",
       "    <tr>\n",
       "      <th>108</th>\n",
       "      <td>lovely hotel great location stayed vacation to...</td>\n",
       "      <td>5</td>\n",
       "    </tr>\n",
       "  </tbody>\n",
       "</table>\n",
       "</div>"
      ],
      "text/plain": [
       "                                                Review  Rating\n",
       "104  fairmont hotel singapore splendid, stayed fair...       5\n",
       "105  great hotel stayed hotel night route perth chr...       4\n",
       "106  great hotel centre stayed 5 nights room overlo...       4\n",
       "107  great location great value great hotel husband...       5\n",
       "108  lovely hotel great location stayed vacation to...       5"
      ]
     },
     "execution_count": 5,
     "metadata": {},
     "output_type": "execute_result"
    }
   ],
   "source": [
    "data.tail()"
   ]
  },
  {
   "cell_type": "code",
   "execution_count": 6,
   "id": "efea4fd1-d879-43de-a99e-cf0829264525",
   "metadata": {},
   "outputs": [
    {
     "data": {
      "text/plain": [
       "'nice hotel expensive parking got good deal stay hotel anniversary, arrived late evening took advice previous reviews did valet parking, check quick easy, little disappointed non-existent view room room clean nice size, bed comfortable woke stiff neck high pillows, not soundproof like heard music room night morning loud bangs doors opening closing hear people talking hallway, maybe just noisy neighbors, aveda bath products nice, did not goldfish stay nice touch taken advantage staying longer, location great walking distance shopping, overall nice experience having pay 40 parking night,  '"
      ]
     },
     "execution_count": 6,
     "metadata": {},
     "output_type": "execute_result"
    }
   ],
   "source": [
    "data['Review'][0]"
   ]
  },
  {
   "cell_type": "code",
   "execution_count": 7,
   "id": "bf37370a-fc14-4bf3-a6af-bcbed3a42ce7",
   "metadata": {},
   "outputs": [],
   "source": [
    "data['review_lowercase'] = data['Review'].str.lower()"
   ]
  },
  {
   "cell_type": "code",
   "execution_count": 8,
   "id": "5207c79b-de37-4fcc-ba6b-301b7e6b6b5e",
   "metadata": {},
   "outputs": [
    {
     "data": {
      "text/html": [
       "<div>\n",
       "<style scoped>\n",
       "    .dataframe tbody tr th:only-of-type {\n",
       "        vertical-align: middle;\n",
       "    }\n",
       "\n",
       "    .dataframe tbody tr th {\n",
       "        vertical-align: top;\n",
       "    }\n",
       "\n",
       "    .dataframe thead th {\n",
       "        text-align: right;\n",
       "    }\n",
       "</style>\n",
       "<table border=\"1\" class=\"dataframe\">\n",
       "  <thead>\n",
       "    <tr style=\"text-align: right;\">\n",
       "      <th></th>\n",
       "      <th>Review</th>\n",
       "      <th>Rating</th>\n",
       "      <th>review_lowercase</th>\n",
       "    </tr>\n",
       "  </thead>\n",
       "  <tbody>\n",
       "    <tr>\n",
       "      <th>0</th>\n",
       "      <td>nice hotel expensive parking got good deal sta...</td>\n",
       "      <td>4</td>\n",
       "      <td>nice hotel expensive parking got good deal sta...</td>\n",
       "    </tr>\n",
       "    <tr>\n",
       "      <th>1</th>\n",
       "      <td>ok nothing special charge diamond member hilto...</td>\n",
       "      <td>2</td>\n",
       "      <td>ok nothing special charge diamond member hilto...</td>\n",
       "    </tr>\n",
       "    <tr>\n",
       "      <th>2</th>\n",
       "      <td>nice rooms not 4* experience hotel monaco seat...</td>\n",
       "      <td>3</td>\n",
       "      <td>nice rooms not 4* experience hotel monaco seat...</td>\n",
       "    </tr>\n",
       "    <tr>\n",
       "      <th>3</th>\n",
       "      <td>unique, great stay, wonderful time hotel monac...</td>\n",
       "      <td>5</td>\n",
       "      <td>unique, great stay, wonderful time hotel monac...</td>\n",
       "    </tr>\n",
       "    <tr>\n",
       "      <th>4</th>\n",
       "      <td>great stay great stay, went seahawk game aweso...</td>\n",
       "      <td>5</td>\n",
       "      <td>great stay great stay, went seahawk game aweso...</td>\n",
       "    </tr>\n",
       "  </tbody>\n",
       "</table>\n",
       "</div>"
      ],
      "text/plain": [
       "                                              Review  Rating  \\\n",
       "0  nice hotel expensive parking got good deal sta...       4   \n",
       "1  ok nothing special charge diamond member hilto...       2   \n",
       "2  nice rooms not 4* experience hotel monaco seat...       3   \n",
       "3  unique, great stay, wonderful time hotel monac...       5   \n",
       "4  great stay great stay, went seahawk game aweso...       5   \n",
       "\n",
       "                                    review_lowercase  \n",
       "0  nice hotel expensive parking got good deal sta...  \n",
       "1  ok nothing special charge diamond member hilto...  \n",
       "2  nice rooms not 4* experience hotel monaco seat...  \n",
       "3  unique, great stay, wonderful time hotel monac...  \n",
       "4  great stay great stay, went seahawk game aweso...  "
      ]
     },
     "execution_count": 8,
     "metadata": {},
     "output_type": "execute_result"
    }
   ],
   "source": [
    "data.head()"
   ]
  },
  {
   "cell_type": "code",
   "execution_count": 9,
   "id": "1655b426-7c06-44e4-a6a2-7b26df8eb726",
   "metadata": {},
   "outputs": [],
   "source": [
    "en_stopwords = stopwords.words('english')"
   ]
  },
  {
   "cell_type": "code",
   "execution_count": 10,
   "id": "f0320af2-affd-48e7-b04f-8dfe61fbcd6f",
   "metadata": {},
   "outputs": [],
   "source": [
    "en_stopwords.remove(\"not\")"
   ]
  },
  {
   "cell_type": "code",
   "execution_count": 11,
   "id": "fdf44e8c-902b-4a11-88c9-5e5d12d82a5d",
   "metadata": {},
   "outputs": [],
   "source": [
    "data['review_no_stopwords'] = data['review_lowercase'].apply(lambda x: ' '.join([word for word in x.split() if word not in (en_stopwords)]))\n"
   ]
  },
  {
   "cell_type": "code",
   "execution_count": 12,
   "id": "5c581cf4-4dfb-4748-9389-338ee05d756a",
   "metadata": {},
   "outputs": [
    {
     "data": {
      "text/plain": [
       "'nice hotel expensive parking got good deal stay hotel anniversary, arrived late evening took advice previous reviews valet parking, check quick easy, little disappointed non-existent view room room clean nice size, bed comfortable woke stiff neck high pillows, not soundproof like heard music room night morning loud bangs doors opening closing hear people talking hallway, maybe noisy neighbors, aveda bath products nice, not goldfish stay nice touch taken advantage staying longer, location great walking distance shopping, overall nice experience pay 40 parking night,'"
      ]
     },
     "execution_count": 12,
     "metadata": {},
     "output_type": "execute_result"
    }
   ],
   "source": [
    "data['review_no_stopwords'][0]"
   ]
  },
  {
   "cell_type": "code",
   "execution_count": 13,
   "id": "e045aee3-0841-4e17-9d26-6997e5ca173f",
   "metadata": {},
   "outputs": [],
   "source": [
    "data['review_no_stopwords_no_punct'] = data.apply(lambda x: re.sub(r\"[*]\", \"star\", x['review_no_stopwords']), axis=1)"
   ]
  },
  {
   "cell_type": "code",
   "execution_count": 14,
   "id": "a2dc4ed9-f0ba-4b8f-a417-b84641b38232",
   "metadata": {},
   "outputs": [
    {
     "data": {
      "text/html": [
       "<div>\n",
       "<style scoped>\n",
       "    .dataframe tbody tr th:only-of-type {\n",
       "        vertical-align: middle;\n",
       "    }\n",
       "\n",
       "    .dataframe tbody tr th {\n",
       "        vertical-align: top;\n",
       "    }\n",
       "\n",
       "    .dataframe thead th {\n",
       "        text-align: right;\n",
       "    }\n",
       "</style>\n",
       "<table border=\"1\" class=\"dataframe\">\n",
       "  <thead>\n",
       "    <tr style=\"text-align: right;\">\n",
       "      <th></th>\n",
       "      <th>Review</th>\n",
       "      <th>Rating</th>\n",
       "      <th>review_lowercase</th>\n",
       "      <th>review_no_stopwords</th>\n",
       "      <th>review_no_stopwords_no_punct</th>\n",
       "    </tr>\n",
       "  </thead>\n",
       "  <tbody>\n",
       "    <tr>\n",
       "      <th>0</th>\n",
       "      <td>nice hotel expensive parking got good deal sta...</td>\n",
       "      <td>4</td>\n",
       "      <td>nice hotel expensive parking got good deal sta...</td>\n",
       "      <td>nice hotel expensive parking got good deal sta...</td>\n",
       "      <td>nice hotel expensive parking got good deal sta...</td>\n",
       "    </tr>\n",
       "    <tr>\n",
       "      <th>1</th>\n",
       "      <td>ok nothing special charge diamond member hilto...</td>\n",
       "      <td>2</td>\n",
       "      <td>ok nothing special charge diamond member hilto...</td>\n",
       "      <td>ok nothing special charge diamond member hilto...</td>\n",
       "      <td>ok nothing special charge diamond member hilto...</td>\n",
       "    </tr>\n",
       "    <tr>\n",
       "      <th>2</th>\n",
       "      <td>nice rooms not 4* experience hotel monaco seat...</td>\n",
       "      <td>3</td>\n",
       "      <td>nice rooms not 4* experience hotel monaco seat...</td>\n",
       "      <td>nice rooms not 4* experience hotel monaco seat...</td>\n",
       "      <td>nice rooms not 4star experience hotel monaco s...</td>\n",
       "    </tr>\n",
       "    <tr>\n",
       "      <th>3</th>\n",
       "      <td>unique, great stay, wonderful time hotel monac...</td>\n",
       "      <td>5</td>\n",
       "      <td>unique, great stay, wonderful time hotel monac...</td>\n",
       "      <td>unique, great stay, wonderful time hotel monac...</td>\n",
       "      <td>unique, great stay, wonderful time hotel monac...</td>\n",
       "    </tr>\n",
       "    <tr>\n",
       "      <th>4</th>\n",
       "      <td>great stay great stay, went seahawk game aweso...</td>\n",
       "      <td>5</td>\n",
       "      <td>great stay great stay, went seahawk game aweso...</td>\n",
       "      <td>great stay great stay, went seahawk game aweso...</td>\n",
       "      <td>great stay great stay, went seahawk game aweso...</td>\n",
       "    </tr>\n",
       "  </tbody>\n",
       "</table>\n",
       "</div>"
      ],
      "text/plain": [
       "                                              Review  Rating  \\\n",
       "0  nice hotel expensive parking got good deal sta...       4   \n",
       "1  ok nothing special charge diamond member hilto...       2   \n",
       "2  nice rooms not 4* experience hotel monaco seat...       3   \n",
       "3  unique, great stay, wonderful time hotel monac...       5   \n",
       "4  great stay great stay, went seahawk game aweso...       5   \n",
       "\n",
       "                                    review_lowercase  \\\n",
       "0  nice hotel expensive parking got good deal sta...   \n",
       "1  ok nothing special charge diamond member hilto...   \n",
       "2  nice rooms not 4* experience hotel monaco seat...   \n",
       "3  unique, great stay, wonderful time hotel monac...   \n",
       "4  great stay great stay, went seahawk game aweso...   \n",
       "\n",
       "                                 review_no_stopwords  \\\n",
       "0  nice hotel expensive parking got good deal sta...   \n",
       "1  ok nothing special charge diamond member hilto...   \n",
       "2  nice rooms not 4* experience hotel monaco seat...   \n",
       "3  unique, great stay, wonderful time hotel monac...   \n",
       "4  great stay great stay, went seahawk game aweso...   \n",
       "\n",
       "                        review_no_stopwords_no_punct  \n",
       "0  nice hotel expensive parking got good deal sta...  \n",
       "1  ok nothing special charge diamond member hilto...  \n",
       "2  nice rooms not 4star experience hotel monaco s...  \n",
       "3  unique, great stay, wonderful time hotel monac...  \n",
       "4  great stay great stay, went seahawk game aweso...  "
      ]
     },
     "execution_count": 14,
     "metadata": {},
     "output_type": "execute_result"
    }
   ],
   "source": [
    "data.head()"
   ]
  },
  {
   "cell_type": "code",
   "execution_count": 15,
   "id": "5ca4129a-d4f7-41b0-abaf-088b08a48a5f",
   "metadata": {},
   "outputs": [],
   "source": [
    "data['review_no_stopwords_no_punct'] = data.apply(lambda x: re.sub(r\"([^\\w\\s])\", \"\",  x['review_no_stopwords_no_punct']), axis=1)"
   ]
  },
  {
   "cell_type": "code",
   "execution_count": 16,
   "id": "cb409114-5df5-4c43-8f05-f313385d92b8",
   "metadata": {},
   "outputs": [
    {
     "data": {
      "text/html": [
       "<div>\n",
       "<style scoped>\n",
       "    .dataframe tbody tr th:only-of-type {\n",
       "        vertical-align: middle;\n",
       "    }\n",
       "\n",
       "    .dataframe tbody tr th {\n",
       "        vertical-align: top;\n",
       "    }\n",
       "\n",
       "    .dataframe thead th {\n",
       "        text-align: right;\n",
       "    }\n",
       "</style>\n",
       "<table border=\"1\" class=\"dataframe\">\n",
       "  <thead>\n",
       "    <tr style=\"text-align: right;\">\n",
       "      <th></th>\n",
       "      <th>Review</th>\n",
       "      <th>Rating</th>\n",
       "      <th>review_lowercase</th>\n",
       "      <th>review_no_stopwords</th>\n",
       "      <th>review_no_stopwords_no_punct</th>\n",
       "    </tr>\n",
       "  </thead>\n",
       "  <tbody>\n",
       "    <tr>\n",
       "      <th>0</th>\n",
       "      <td>nice hotel expensive parking got good deal sta...</td>\n",
       "      <td>4</td>\n",
       "      <td>nice hotel expensive parking got good deal sta...</td>\n",
       "      <td>nice hotel expensive parking got good deal sta...</td>\n",
       "      <td>nice hotel expensive parking got good deal sta...</td>\n",
       "    </tr>\n",
       "    <tr>\n",
       "      <th>1</th>\n",
       "      <td>ok nothing special charge diamond member hilto...</td>\n",
       "      <td>2</td>\n",
       "      <td>ok nothing special charge diamond member hilto...</td>\n",
       "      <td>ok nothing special charge diamond member hilto...</td>\n",
       "      <td>ok nothing special charge diamond member hilto...</td>\n",
       "    </tr>\n",
       "    <tr>\n",
       "      <th>2</th>\n",
       "      <td>nice rooms not 4* experience hotel monaco seat...</td>\n",
       "      <td>3</td>\n",
       "      <td>nice rooms not 4* experience hotel monaco seat...</td>\n",
       "      <td>nice rooms not 4* experience hotel monaco seat...</td>\n",
       "      <td>nice rooms not 4star experience hotel monaco s...</td>\n",
       "    </tr>\n",
       "    <tr>\n",
       "      <th>3</th>\n",
       "      <td>unique, great stay, wonderful time hotel monac...</td>\n",
       "      <td>5</td>\n",
       "      <td>unique, great stay, wonderful time hotel monac...</td>\n",
       "      <td>unique, great stay, wonderful time hotel monac...</td>\n",
       "      <td>unique great stay wonderful time hotel monaco ...</td>\n",
       "    </tr>\n",
       "    <tr>\n",
       "      <th>4</th>\n",
       "      <td>great stay great stay, went seahawk game aweso...</td>\n",
       "      <td>5</td>\n",
       "      <td>great stay great stay, went seahawk game aweso...</td>\n",
       "      <td>great stay great stay, went seahawk game aweso...</td>\n",
       "      <td>great stay great stay went seahawk game awesom...</td>\n",
       "    </tr>\n",
       "  </tbody>\n",
       "</table>\n",
       "</div>"
      ],
      "text/plain": [
       "                                              Review  Rating  \\\n",
       "0  nice hotel expensive parking got good deal sta...       4   \n",
       "1  ok nothing special charge diamond member hilto...       2   \n",
       "2  nice rooms not 4* experience hotel monaco seat...       3   \n",
       "3  unique, great stay, wonderful time hotel monac...       5   \n",
       "4  great stay great stay, went seahawk game aweso...       5   \n",
       "\n",
       "                                    review_lowercase  \\\n",
       "0  nice hotel expensive parking got good deal sta...   \n",
       "1  ok nothing special charge diamond member hilto...   \n",
       "2  nice rooms not 4* experience hotel monaco seat...   \n",
       "3  unique, great stay, wonderful time hotel monac...   \n",
       "4  great stay great stay, went seahawk game aweso...   \n",
       "\n",
       "                                 review_no_stopwords  \\\n",
       "0  nice hotel expensive parking got good deal sta...   \n",
       "1  ok nothing special charge diamond member hilto...   \n",
       "2  nice rooms not 4* experience hotel monaco seat...   \n",
       "3  unique, great stay, wonderful time hotel monac...   \n",
       "4  great stay great stay, went seahawk game aweso...   \n",
       "\n",
       "                        review_no_stopwords_no_punct  \n",
       "0  nice hotel expensive parking got good deal sta...  \n",
       "1  ok nothing special charge diamond member hilto...  \n",
       "2  nice rooms not 4star experience hotel monaco s...  \n",
       "3  unique great stay wonderful time hotel monaco ...  \n",
       "4  great stay great stay went seahawk game awesom...  "
      ]
     },
     "execution_count": 16,
     "metadata": {},
     "output_type": "execute_result"
    }
   ],
   "source": [
    "data.head()"
   ]
  },
  {
   "cell_type": "code",
   "execution_count": 17,
   "id": "3c9137bd-7ad5-49e1-9751-ee62772073ef",
   "metadata": {},
   "outputs": [],
   "source": [
    "data['tokenized'] = data.apply(lambda x: word_tokenize(x['review_no_stopwords_no_punct']), axis=1)"
   ]
  },
  {
   "cell_type": "code",
   "execution_count": 18,
   "id": "0d73c308-d10e-46f2-ba36-dca45d3cf1dd",
   "metadata": {},
   "outputs": [
    {
     "data": {
      "text/plain": [
       "['nice',\n",
       " 'hotel',\n",
       " 'expensive',\n",
       " 'parking',\n",
       " 'got',\n",
       " 'good',\n",
       " 'deal',\n",
       " 'stay',\n",
       " 'hotel',\n",
       " 'anniversary',\n",
       " 'arrived',\n",
       " 'late',\n",
       " 'evening',\n",
       " 'took',\n",
       " 'advice',\n",
       " 'previous',\n",
       " 'reviews',\n",
       " 'valet',\n",
       " 'parking',\n",
       " 'check',\n",
       " 'quick',\n",
       " 'easy',\n",
       " 'little',\n",
       " 'disappointed',\n",
       " 'nonexistent',\n",
       " 'view',\n",
       " 'room',\n",
       " 'room',\n",
       " 'clean',\n",
       " 'nice',\n",
       " 'size',\n",
       " 'bed',\n",
       " 'comfortable',\n",
       " 'woke',\n",
       " 'stiff',\n",
       " 'neck',\n",
       " 'high',\n",
       " 'pillows',\n",
       " 'not',\n",
       " 'soundproof',\n",
       " 'like',\n",
       " 'heard',\n",
       " 'music',\n",
       " 'room',\n",
       " 'night',\n",
       " 'morning',\n",
       " 'loud',\n",
       " 'bangs',\n",
       " 'doors',\n",
       " 'opening',\n",
       " 'closing',\n",
       " 'hear',\n",
       " 'people',\n",
       " 'talking',\n",
       " 'hallway',\n",
       " 'maybe',\n",
       " 'noisy',\n",
       " 'neighbors',\n",
       " 'aveda',\n",
       " 'bath',\n",
       " 'products',\n",
       " 'nice',\n",
       " 'not',\n",
       " 'goldfish',\n",
       " 'stay',\n",
       " 'nice',\n",
       " 'touch',\n",
       " 'taken',\n",
       " 'advantage',\n",
       " 'staying',\n",
       " 'longer',\n",
       " 'location',\n",
       " 'great',\n",
       " 'walking',\n",
       " 'distance',\n",
       " 'shopping',\n",
       " 'overall',\n",
       " 'nice',\n",
       " 'experience',\n",
       " 'pay',\n",
       " '40',\n",
       " 'parking',\n",
       " 'night']"
      ]
     },
     "execution_count": 18,
     "metadata": {},
     "output_type": "execute_result"
    }
   ],
   "source": [
    "data['tokenized'][0]"
   ]
  },
  {
   "cell_type": "code",
   "execution_count": 19,
   "id": "58be0469-64dc-467d-a0d8-0b9dbe6360ca",
   "metadata": {},
   "outputs": [],
   "source": [
    "ps = PorterStemmer()"
   ]
  },
  {
   "cell_type": "code",
   "execution_count": 20,
   "id": "aebd2b85-5d51-4d97-9799-dcabae0a18bf",
   "metadata": {},
   "outputs": [],
   "source": [
    "data['stemmed'] = data['tokenized'].apply(lambda tokens: [ps.stem(token) for token in tokens])"
   ]
  },
  {
   "cell_type": "code",
   "execution_count": 21,
   "id": "14561f93-f8c9-4e1f-b288-6c94915b373d",
   "metadata": {},
   "outputs": [
    {
     "data": {
      "text/html": [
       "<div>\n",
       "<style scoped>\n",
       "    .dataframe tbody tr th:only-of-type {\n",
       "        vertical-align: middle;\n",
       "    }\n",
       "\n",
       "    .dataframe tbody tr th {\n",
       "        vertical-align: top;\n",
       "    }\n",
       "\n",
       "    .dataframe thead th {\n",
       "        text-align: right;\n",
       "    }\n",
       "</style>\n",
       "<table border=\"1\" class=\"dataframe\">\n",
       "  <thead>\n",
       "    <tr style=\"text-align: right;\">\n",
       "      <th></th>\n",
       "      <th>Review</th>\n",
       "      <th>Rating</th>\n",
       "      <th>review_lowercase</th>\n",
       "      <th>review_no_stopwords</th>\n",
       "      <th>review_no_stopwords_no_punct</th>\n",
       "      <th>tokenized</th>\n",
       "      <th>stemmed</th>\n",
       "    </tr>\n",
       "  </thead>\n",
       "  <tbody>\n",
       "    <tr>\n",
       "      <th>0</th>\n",
       "      <td>nice hotel expensive parking got good deal sta...</td>\n",
       "      <td>4</td>\n",
       "      <td>nice hotel expensive parking got good deal sta...</td>\n",
       "      <td>nice hotel expensive parking got good deal sta...</td>\n",
       "      <td>nice hotel expensive parking got good deal sta...</td>\n",
       "      <td>[nice, hotel, expensive, parking, got, good, d...</td>\n",
       "      <td>[nice, hotel, expens, park, got, good, deal, s...</td>\n",
       "    </tr>\n",
       "    <tr>\n",
       "      <th>1</th>\n",
       "      <td>ok nothing special charge diamond member hilto...</td>\n",
       "      <td>2</td>\n",
       "      <td>ok nothing special charge diamond member hilto...</td>\n",
       "      <td>ok nothing special charge diamond member hilto...</td>\n",
       "      <td>ok nothing special charge diamond member hilto...</td>\n",
       "      <td>[ok, nothing, special, charge, diamond, member...</td>\n",
       "      <td>[ok, noth, special, charg, diamond, member, hi...</td>\n",
       "    </tr>\n",
       "    <tr>\n",
       "      <th>2</th>\n",
       "      <td>nice rooms not 4* experience hotel monaco seat...</td>\n",
       "      <td>3</td>\n",
       "      <td>nice rooms not 4* experience hotel monaco seat...</td>\n",
       "      <td>nice rooms not 4* experience hotel monaco seat...</td>\n",
       "      <td>nice rooms not 4star experience hotel monaco s...</td>\n",
       "      <td>[nice, rooms, not, 4star, experience, hotel, m...</td>\n",
       "      <td>[nice, room, not, 4star, experi, hotel, monaco...</td>\n",
       "    </tr>\n",
       "    <tr>\n",
       "      <th>3</th>\n",
       "      <td>unique, great stay, wonderful time hotel monac...</td>\n",
       "      <td>5</td>\n",
       "      <td>unique, great stay, wonderful time hotel monac...</td>\n",
       "      <td>unique, great stay, wonderful time hotel monac...</td>\n",
       "      <td>unique great stay wonderful time hotel monaco ...</td>\n",
       "      <td>[unique, great, stay, wonderful, time, hotel, ...</td>\n",
       "      <td>[uniqu, great, stay, wonder, time, hotel, mona...</td>\n",
       "    </tr>\n",
       "    <tr>\n",
       "      <th>4</th>\n",
       "      <td>great stay great stay, went seahawk game aweso...</td>\n",
       "      <td>5</td>\n",
       "      <td>great stay great stay, went seahawk game aweso...</td>\n",
       "      <td>great stay great stay, went seahawk game aweso...</td>\n",
       "      <td>great stay great stay went seahawk game awesom...</td>\n",
       "      <td>[great, stay, great, stay, went, seahawk, game...</td>\n",
       "      <td>[great, stay, great, stay, went, seahawk, game...</td>\n",
       "    </tr>\n",
       "  </tbody>\n",
       "</table>\n",
       "</div>"
      ],
      "text/plain": [
       "                                              Review  Rating  \\\n",
       "0  nice hotel expensive parking got good deal sta...       4   \n",
       "1  ok nothing special charge diamond member hilto...       2   \n",
       "2  nice rooms not 4* experience hotel monaco seat...       3   \n",
       "3  unique, great stay, wonderful time hotel monac...       5   \n",
       "4  great stay great stay, went seahawk game aweso...       5   \n",
       "\n",
       "                                    review_lowercase  \\\n",
       "0  nice hotel expensive parking got good deal sta...   \n",
       "1  ok nothing special charge diamond member hilto...   \n",
       "2  nice rooms not 4* experience hotel monaco seat...   \n",
       "3  unique, great stay, wonderful time hotel monac...   \n",
       "4  great stay great stay, went seahawk game aweso...   \n",
       "\n",
       "                                 review_no_stopwords  \\\n",
       "0  nice hotel expensive parking got good deal sta...   \n",
       "1  ok nothing special charge diamond member hilto...   \n",
       "2  nice rooms not 4* experience hotel monaco seat...   \n",
       "3  unique, great stay, wonderful time hotel monac...   \n",
       "4  great stay great stay, went seahawk game aweso...   \n",
       "\n",
       "                        review_no_stopwords_no_punct  \\\n",
       "0  nice hotel expensive parking got good deal sta...   \n",
       "1  ok nothing special charge diamond member hilto...   \n",
       "2  nice rooms not 4star experience hotel monaco s...   \n",
       "3  unique great stay wonderful time hotel monaco ...   \n",
       "4  great stay great stay went seahawk game awesom...   \n",
       "\n",
       "                                           tokenized  \\\n",
       "0  [nice, hotel, expensive, parking, got, good, d...   \n",
       "1  [ok, nothing, special, charge, diamond, member...   \n",
       "2  [nice, rooms, not, 4star, experience, hotel, m...   \n",
       "3  [unique, great, stay, wonderful, time, hotel, ...   \n",
       "4  [great, stay, great, stay, went, seahawk, game...   \n",
       "\n",
       "                                             stemmed  \n",
       "0  [nice, hotel, expens, park, got, good, deal, s...  \n",
       "1  [ok, noth, special, charg, diamond, member, hi...  \n",
       "2  [nice, room, not, 4star, experi, hotel, monaco...  \n",
       "3  [uniqu, great, stay, wonder, time, hotel, mona...  \n",
       "4  [great, stay, great, stay, went, seahawk, game...  "
      ]
     },
     "execution_count": 21,
     "metadata": {},
     "output_type": "execute_result"
    }
   ],
   "source": [
    "data.head()"
   ]
  },
  {
   "cell_type": "code",
   "execution_count": 22,
   "id": "691248f8-4d53-496d-821b-78971d340c8c",
   "metadata": {},
   "outputs": [],
   "source": [
    "lemmatizer = WordNetLemmatizer()"
   ]
  },
  {
   "cell_type": "code",
   "execution_count": 23,
   "id": "a785af52-ebba-4ec7-b9ed-6660f0feef2e",
   "metadata": {},
   "outputs": [],
   "source": [
    "data['lemmatized'] = data['tokenized'].apply(lambda tokens: [lemmatizer.lemmatize(token) for token in tokens])"
   ]
  },
  {
   "cell_type": "code",
   "execution_count": 24,
   "id": "edd353d3-4a2d-427f-8a5e-4af6c650c85a",
   "metadata": {},
   "outputs": [
    {
     "data": {
      "text/plain": [
       "['nice',\n",
       " 'hotel',\n",
       " 'expensive',\n",
       " 'parking',\n",
       " 'got',\n",
       " 'good',\n",
       " 'deal',\n",
       " 'stay',\n",
       " 'hotel',\n",
       " 'anniversary',\n",
       " 'arrived',\n",
       " 'late',\n",
       " 'evening',\n",
       " 'took',\n",
       " 'advice',\n",
       " 'previous',\n",
       " 'review',\n",
       " 'valet',\n",
       " 'parking',\n",
       " 'check',\n",
       " 'quick',\n",
       " 'easy',\n",
       " 'little',\n",
       " 'disappointed',\n",
       " 'nonexistent',\n",
       " 'view',\n",
       " 'room',\n",
       " 'room',\n",
       " 'clean',\n",
       " 'nice',\n",
       " 'size',\n",
       " 'bed',\n",
       " 'comfortable',\n",
       " 'woke',\n",
       " 'stiff',\n",
       " 'neck',\n",
       " 'high',\n",
       " 'pillow',\n",
       " 'not',\n",
       " 'soundproof',\n",
       " 'like',\n",
       " 'heard',\n",
       " 'music',\n",
       " 'room',\n",
       " 'night',\n",
       " 'morning',\n",
       " 'loud',\n",
       " 'bang',\n",
       " 'door',\n",
       " 'opening',\n",
       " 'closing',\n",
       " 'hear',\n",
       " 'people',\n",
       " 'talking',\n",
       " 'hallway',\n",
       " 'maybe',\n",
       " 'noisy',\n",
       " 'neighbor',\n",
       " 'aveda',\n",
       " 'bath',\n",
       " 'product',\n",
       " 'nice',\n",
       " 'not',\n",
       " 'goldfish',\n",
       " 'stay',\n",
       " 'nice',\n",
       " 'touch',\n",
       " 'taken',\n",
       " 'advantage',\n",
       " 'staying',\n",
       " 'longer',\n",
       " 'location',\n",
       " 'great',\n",
       " 'walking',\n",
       " 'distance',\n",
       " 'shopping',\n",
       " 'overall',\n",
       " 'nice',\n",
       " 'experience',\n",
       " 'pay',\n",
       " '40',\n",
       " 'parking',\n",
       " 'night']"
      ]
     },
     "execution_count": 24,
     "metadata": {},
     "output_type": "execute_result"
    }
   ],
   "source": [
    "data['lemmatized'][0]"
   ]
  },
  {
   "cell_type": "code",
   "execution_count": 25,
   "id": "06181287-7229-4618-ba7f-de1823080652",
   "metadata": {},
   "outputs": [],
   "source": [
    "tokens_clean = sum(data['lemmatized'], [])"
   ]
  },
  {
   "cell_type": "code",
   "execution_count": 26,
   "id": "d17cae7b-6013-4167-a723-2545b1e154a6",
   "metadata": {},
   "outputs": [
    {
     "name": "stdout",
     "output_type": "stream",
     "text": [
      "(hotel,)           292\n",
      "(room,)            275\n",
      "(great,)           126\n",
      "(not,)             122\n",
      "(stay,)             95\n",
      "                  ... \n",
      "(singaporewe,)       1\n",
      "(australian,)        1\n",
      "(australiaour,)      1\n",
      "(exception,)         1\n",
      "(nightyou,)          1\n",
      "Name: count, Length: 2589, dtype: int64\n"
     ]
    }
   ],
   "source": [
    "unigrams = (pd.Series(nltk.ngrams(tokens_clean, 1)).value_counts())\n",
    "print(unigrams)"
   ]
  },
  {
   "cell_type": "code",
   "execution_count": 27,
   "id": "946210f4-5170-408b-8765-66d37dafbbd0",
   "metadata": {},
   "outputs": [
    {
     "name": "stdout",
     "output_type": "stream",
     "text": [
      "(great, location)          24\n",
      "(space, needle)            21\n",
      "(hotel, monaco)            16\n",
      "(staff, friendly)          12\n",
      "(pike, place)              12\n",
      "                           ..\n",
      "(looking, decorated)        1\n",
      "(decorated, maintained)     1\n",
      "(maintained, staff)         1\n",
      "(professional, large)       1\n",
      "(food, raffle)              1\n",
      "Name: count, Length: 8263, dtype: int64\n"
     ]
    }
   ],
   "source": [
    "bigrams = (pd.Series(nltk.ngrams(tokens_clean, 2)).value_counts())\n",
    "print(bigrams)"
   ]
  },
  {
   "cell_type": "code",
   "execution_count": 28,
   "id": "7afeff33-1f8c-4729-a642-7215a04c5289",
   "metadata": {},
   "outputs": [
    {
     "name": "stdout",
     "output_type": "stream",
     "text": [
      "(pike, place, market)          8\n",
      "(hotel, great, location)       5\n",
      "(view, space, needle)          5\n",
      "(room, king, bed)              4\n",
      "(staff, friendly, helpful)     4\n",
      "                              ..\n",
      "(large, room, nice)            1\n",
      "(room, nice, extra)            1\n",
      "(nice, extra, bathroom)        1\n",
      "(extra, bathroom, toiletry)    1\n",
      "(hotel, expensive, parking)    1\n",
      "Name: count, Length: 9288, dtype: int64\n"
     ]
    }
   ],
   "source": [
    "Tigrams = (pd.Series(nltk.ngrams(tokens_clean, 3)).value_counts())\n",
    "print(Tigrams)"
   ]
  },
  {
   "cell_type": "code",
   "execution_count": null,
   "id": "f69fc055-47ee-42a0-b450-b97908fad6cd",
   "metadata": {},
   "outputs": [],
   "source": []
  }
 ],
 "metadata": {
  "kernelspec": {
   "display_name": "Python 3 (ipykernel)",
   "language": "python",
   "name": "python3"
  },
  "language_info": {
   "codemirror_mode": {
    "name": "ipython",
    "version": 3
   },
   "file_extension": ".py",
   "mimetype": "text/x-python",
   "name": "python",
   "nbconvert_exporter": "python",
   "pygments_lexer": "ipython3",
   "version": "3.13.5"
  }
 },
 "nbformat": 4,
 "nbformat_minor": 5
}
