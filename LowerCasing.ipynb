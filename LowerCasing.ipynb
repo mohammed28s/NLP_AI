{
 "cells": [
  {
   "cell_type": "code",
   "execution_count": 1,
   "id": "9786f494-af63-4a94-a387-7dac89487425",
   "metadata": {},
   "outputs": [],
   "source": [
    "# LowerCasing in NLP\n",
    "sentence = \"Her cat's name is Luna\""
   ]
  },
  {
   "cell_type": "code",
   "execution_count": 2,
   "id": "be937883-4393-456e-92ea-e4b4491f1a71",
   "metadata": {},
   "outputs": [],
   "source": [
    "lower_sentance = sentence.lower()"
   ]
  },
  {
   "cell_type": "code",
   "execution_count": 3,
   "id": "c23643ff-6b06-4e0e-929f-6fbee1ec307b",
   "metadata": {},
   "outputs": [
    {
     "name": "stdout",
     "output_type": "stream",
     "text": [
      "her cat's name is luna\n"
     ]
    }
   ],
   "source": [
    "print(lower_sentance)"
   ]
  },
  {
   "cell_type": "code",
   "execution_count": 4,
   "id": "2ccdbe42-9c16-42bd-9d19-0154b6516770",
   "metadata": {},
   "outputs": [],
   "source": [
    "sentance_list = ['Could you pass me the TV remote? '\n",
    "                 'It is IMPOSSIBLE to find this hotel ',\n",
    "                 'Want to go for dinner on Tuesday?']"
   ]
  },
  {
   "cell_type": "code",
   "execution_count": 5,
   "id": "4bba784e-1f6d-48f2-937f-18f491a590d5",
   "metadata": {},
   "outputs": [
    {
     "name": "stdout",
     "output_type": "stream",
     "text": [
      "['could you pass me the tv remote? it is impossible to find this hotel ', 'want to go for dinner on tuesday?']\n"
     ]
    }
   ],
   "source": [
    "lower_sentance_list = [x.lower() for x in sentance_list]\n",
    "print(lower_sentance_list)"
   ]
  },
  {
   "cell_type": "code",
   "execution_count": null,
   "id": "3cf74295-3629-4430-abbb-8a8d57e62954",
   "metadata": {},
   "outputs": [],
   "source": []
  }
 ],
 "metadata": {
  "kernelspec": {
   "display_name": "Python 3 (ipykernel)",
   "language": "python",
   "name": "python3"
  },
  "language_info": {
   "codemirror_mode": {
    "name": "ipython",
    "version": 3
   },
   "file_extension": ".py",
   "mimetype": "text/x-python",
   "name": "python",
   "nbconvert_exporter": "python",
   "pygments_lexer": "ipython3",
   "version": "3.13.5"
  }
 },
 "nbformat": 4,
 "nbformat_minor": 5
}
