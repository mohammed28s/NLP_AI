{
 "cells": [
  {
   "cell_type": "code",
   "execution_count": 1,
   "id": "2eb1829e-ba63-496a-8e06-c4a9c82e9a8d",
   "metadata": {},
   "outputs": [],
   "source": [
    "sentance_1 = \"i had a great time at the movie it was really funny\"\n",
    "sentance_2 = \"i had a great time at the movi but the parking was terrible\"\n",
    "sentance_3 = \"i had a great time at the movie but the parking wasn't great\"\n",
    "sentance_4 = \"i went to see a movie\" "
   ]
  },
  {
   "cell_type": "code",
   "execution_count": 2,
   "id": "ad04e65d-de43-4a9f-bdcd-e38e23e14782",
   "metadata": {},
   "outputs": [],
   "source": [
    "# TextBlob "
   ]
  },
  {
   "cell_type": "code",
   "execution_count": 3,
   "id": "f652a8c6-83fa-4505-b916-d1f5d207c0f9",
   "metadata": {},
   "outputs": [],
   "source": [
    "from textblob import TextBlob "
   ]
  },
  {
   "cell_type": "code",
   "execution_count": 4,
   "id": "ff9ee10f-c80b-443e-aa54-5a6d85098c77",
   "metadata": {},
   "outputs": [
    {
     "name": "stdout",
     "output_type": "stream",
     "text": [
      "i had a great time at the movie it was really funny\n",
      "0.525\n"
     ]
    }
   ],
   "source": [
    "print(sentance_1)\n",
    "sentiment_score_1 = TextBlob(sentance_1)\n",
    "print(sentiment_score_1.sentiment.polarity)"
   ]
  },
  {
   "cell_type": "code",
   "execution_count": 5,
   "id": "f0c74c62-9cfd-425c-8c4f-5f8a7b403359",
   "metadata": {},
   "outputs": [
    {
     "name": "stdout",
     "output_type": "stream",
     "text": [
      "i had a great time at the movi but the parking was terrible\n",
      "-0.09999999999999998\n"
     ]
    }
   ],
   "source": [
    "print(sentance_2)\n",
    "sentiment_score_2 = TextBlob(sentance_2)\n",
    "print(sentiment_score_2.sentiment.polarity)"
   ]
  },
  {
   "cell_type": "code",
   "execution_count": 6,
   "id": "4cbf0f93-44df-4d6e-b627-2d5ebec27098",
   "metadata": {},
   "outputs": [
    {
     "name": "stdout",
     "output_type": "stream",
     "text": [
      "i had a great time at the movie but the parking wasn't great\n",
      "0.8\n"
     ]
    }
   ],
   "source": [
    "print(sentance_3)\n",
    "sentiment_score_3 = TextBlob(sentance_3)\n",
    "print(sentiment_score_3.sentiment.polarity)"
   ]
  },
  {
   "cell_type": "code",
   "execution_count": 7,
   "id": "847947a7-6cc6-4f4f-99cf-36e4b77860bb",
   "metadata": {},
   "outputs": [
    {
     "name": "stdout",
     "output_type": "stream",
     "text": [
      "i went to see a movie\n",
      "0.0\n"
     ]
    }
   ],
   "source": [
    "print(sentance_4)\n",
    "sentiment_score_4 = TextBlob(sentance_4)\n",
    "print(sentiment_score_4.sentiment.polarity)"
   ]
  },
  {
   "cell_type": "code",
   "execution_count": 8,
   "id": "9c924b1a-864c-4323-b8d4-3b43d15dd3bf",
   "metadata": {},
   "outputs": [],
   "source": [
    "# VADER "
   ]
  },
  {
   "cell_type": "code",
   "execution_count": 9,
   "id": "2375464d-94c4-427b-b95d-6c8f443c1f1b",
   "metadata": {},
   "outputs": [],
   "source": [
    "from vaderSentiment.vaderSentiment import SentimentIntensityAnalyzer\n"
   ]
  },
  {
   "cell_type": "code",
   "execution_count": 10,
   "id": "0ed84f02-018c-49d7-a928-a55887616840",
   "metadata": {},
   "outputs": [],
   "source": [
    "vader_sentiment = SentimentIntensityAnalyzer()"
   ]
  },
  {
   "cell_type": "code",
   "execution_count": 11,
   "id": "c3ae0e0e-91f5-4b5d-b33d-046ef9d3beba",
   "metadata": {},
   "outputs": [
    {
     "name": "stdout",
     "output_type": "stream",
     "text": [
      "i had a great time at the movie it was really funny\n",
      "{'neg': 0.0, 'neu': 0.578, 'pos': 0.422, 'compound': 0.807}\n"
     ]
    }
   ],
   "source": [
    "print(sentance_1)\n",
    "print(vader_sentiment.polarity_scores(sentance_1))"
   ]
  },
  {
   "cell_type": "code",
   "execution_count": 12,
   "id": "3e996ccb-54b2-4e81-abe8-692d7c1cf116",
   "metadata": {},
   "outputs": [
    {
     "name": "stdout",
     "output_type": "stream",
     "text": [
      "i had a great time at the movi but the parking was terrible\n",
      "{'neg': 0.234, 'neu': 0.621, 'pos': 0.144, 'compound': -0.3818}\n"
     ]
    }
   ],
   "source": [
    "print(sentance_2)\n",
    "print(vader_sentiment.polarity_scores(sentance_2))"
   ]
  },
  {
   "cell_type": "code",
   "execution_count": 13,
   "id": "d9319466-0500-4282-a3ff-7a729fe7d073",
   "metadata": {},
   "outputs": [
    {
     "name": "stdout",
     "output_type": "stream",
     "text": [
      "i had a great time at the movie but the parking wasn't great\n",
      "{'neg': 0.247, 'neu': 0.611, 'pos': 0.142, 'compound': -0.4387}\n"
     ]
    }
   ],
   "source": [
    "print(sentance_3)\n",
    "print(vader_sentiment.polarity_scores(sentance_3))"
   ]
  },
  {
   "cell_type": "code",
   "execution_count": 14,
   "id": "9902b292-c0c1-4a82-9402-0832f1706cf3",
   "metadata": {},
   "outputs": [
    {
     "name": "stdout",
     "output_type": "stream",
     "text": [
      "i went to see a movie\n",
      "{'neg': 0.0, 'neu': 1.0, 'pos': 0.0, 'compound': 0.0}\n"
     ]
    }
   ],
   "source": [
    "print(sentance_4)\n",
    "print(vader_sentiment.polarity_scores(sentance_4))"
   ]
  }
 ],
 "metadata": {
  "kernelspec": {
   "display_name": "Python 3 (ipykernel)",
   "language": "python",
   "name": "python3"
  },
  "language_info": {
   "codemirror_mode": {
    "name": "ipython",
    "version": 3
   },
   "file_extension": ".py",
   "mimetype": "text/x-python",
   "name": "python",
   "nbconvert_exporter": "python",
   "pygments_lexer": "ipython3",
   "version": "3.13.5"
  }
 },
 "nbformat": 4,
 "nbformat_minor": 5
}
