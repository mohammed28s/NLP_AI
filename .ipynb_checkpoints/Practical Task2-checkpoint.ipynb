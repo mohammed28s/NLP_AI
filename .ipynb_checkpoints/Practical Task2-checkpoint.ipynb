{
 "cells": [
  {
   "cell_type": "code",
   "execution_count": 1,
   "id": "efede62b-b2e7-48eb-b21a-ea502594e234",
   "metadata": {},
   "outputs": [],
   "source": [
    "import pandas as pd \n",
    "import numpy as np \n",
    "import re \n",
    "from vaderSentiment.vaderSentiment import SentimentIntensityAnalyzer\n",
    "import transformers\n",
    "from transformers import pipeline"
   ]
  },
  {
   "cell_type": "code",
   "execution_count": 2,
   "id": "393e56de-d878-49af-b27b-e42a6a300457",
   "metadata": {},
   "outputs": [],
   "source": [
    "data = pd.read_csv(\"book_reviews_sample.csv\")"
   ]
  },
  {
   "cell_type": "code",
   "execution_count": 3,
   "id": "9d97d019-5860-455f-bc02-eb56d2e46bac",
   "metadata": {},
   "outputs": [
    {
     "data": {
      "text/html": [
       "<div>\n",
       "<style scoped>\n",
       "    .dataframe tbody tr th:only-of-type {\n",
       "        vertical-align: middle;\n",
       "    }\n",
       "\n",
       "    .dataframe tbody tr th {\n",
       "        vertical-align: top;\n",
       "    }\n",
       "\n",
       "    .dataframe thead th {\n",
       "        text-align: right;\n",
       "    }\n",
       "</style>\n",
       "<table border=\"1\" class=\"dataframe\">\n",
       "  <thead>\n",
       "    <tr style=\"text-align: right;\">\n",
       "      <th></th>\n",
       "      <th>index</th>\n",
       "      <th>reviewText</th>\n",
       "      <th>rating</th>\n",
       "    </tr>\n",
       "  </thead>\n",
       "  <tbody>\n",
       "    <tr>\n",
       "      <th>0</th>\n",
       "      <td>11494</td>\n",
       "      <td>Clean and funny. A bit busy with all the diffe...</td>\n",
       "      <td>3</td>\n",
       "    </tr>\n",
       "    <tr>\n",
       "      <th>1</th>\n",
       "      <td>984</td>\n",
       "      <td>Alex a sexy hot cop and the PhD candidate. Wha...</td>\n",
       "      <td>4</td>\n",
       "    </tr>\n",
       "    <tr>\n",
       "      <th>2</th>\n",
       "      <td>1463</td>\n",
       "      <td>Good thing that this is a free story. I read i...</td>\n",
       "      <td>1</td>\n",
       "    </tr>\n",
       "    <tr>\n",
       "      <th>3</th>\n",
       "      <td>10342</td>\n",
       "      <td>Action, action, action! Equipment keeps gettin...</td>\n",
       "      <td>4</td>\n",
       "    </tr>\n",
       "    <tr>\n",
       "      <th>4</th>\n",
       "      <td>5256</td>\n",
       "      <td>this was hands down the worse book i have ever...</td>\n",
       "      <td>1</td>\n",
       "    </tr>\n",
       "  </tbody>\n",
       "</table>\n",
       "</div>"
      ],
      "text/plain": [
       "   index                                         reviewText  rating\n",
       "0  11494  Clean and funny. A bit busy with all the diffe...       3\n",
       "1    984  Alex a sexy hot cop and the PhD candidate. Wha...       4\n",
       "2   1463  Good thing that this is a free story. I read i...       1\n",
       "3  10342  Action, action, action! Equipment keeps gettin...       4\n",
       "4   5256  this was hands down the worse book i have ever...       1"
      ]
     },
     "execution_count": 3,
     "metadata": {},
     "output_type": "execute_result"
    }
   ],
   "source": [
    "data.head()"
   ]
  },
  {
   "cell_type": "code",
   "execution_count": 4,
   "id": "7a3c0ae4-56de-4c4d-86d2-832875451908",
   "metadata": {},
   "outputs": [
    {
     "name": "stdout",
     "output_type": "stream",
     "text": [
      "<class 'pandas.core.frame.DataFrame'>\n",
      "RangeIndex: 100 entries, 0 to 99\n",
      "Data columns (total 3 columns):\n",
      " #   Column      Non-Null Count  Dtype \n",
      "---  ------      --------------  ----- \n",
      " 0   index       100 non-null    int64 \n",
      " 1   reviewText  100 non-null    object\n",
      " 2   rating      100 non-null    int64 \n",
      "dtypes: int64(2), object(1)\n",
      "memory usage: 2.5+ KB\n"
     ]
    }
   ],
   "source": [
    "data.info()"
   ]
  },
  {
   "cell_type": "code",
   "execution_count": 5,
   "id": "5f7afa43-a665-4f94-9d3c-7a6571c8a71c",
   "metadata": {},
   "outputs": [
    {
     "data": {
      "text/plain": [
       "'Clean and funny. A bit busy with all the different plots going on. But overall a good read. Bye now.'"
      ]
     },
     "execution_count": 5,
     "metadata": {},
     "output_type": "execute_result"
    }
   ],
   "source": [
    "data['reviewText'][0]"
   ]
  },
  {
   "cell_type": "code",
   "execution_count": 6,
   "id": "c6a3e87f-f852-4f34-a8ca-4878ee8b918e",
   "metadata": {},
   "outputs": [],
   "source": [
    "data['reviewText_clean'] = data.apply(lambda x: re.sub(r\"([^\\w\\s])\", \"\", x['reviewText'].lower()), axis=1)"
   ]
  },
  {
   "cell_type": "code",
   "execution_count": 7,
   "id": "6a7dd00b-e176-429d-a044-3001ebf1567c",
   "metadata": {},
   "outputs": [
    {
     "data": {
      "text/html": [
       "<div>\n",
       "<style scoped>\n",
       "    .dataframe tbody tr th:only-of-type {\n",
       "        vertical-align: middle;\n",
       "    }\n",
       "\n",
       "    .dataframe tbody tr th {\n",
       "        vertical-align: top;\n",
       "    }\n",
       "\n",
       "    .dataframe thead th {\n",
       "        text-align: right;\n",
       "    }\n",
       "</style>\n",
       "<table border=\"1\" class=\"dataframe\">\n",
       "  <thead>\n",
       "    <tr style=\"text-align: right;\">\n",
       "      <th></th>\n",
       "      <th>index</th>\n",
       "      <th>reviewText</th>\n",
       "      <th>rating</th>\n",
       "      <th>reviewText_clean</th>\n",
       "    </tr>\n",
       "  </thead>\n",
       "  <tbody>\n",
       "    <tr>\n",
       "      <th>0</th>\n",
       "      <td>11494</td>\n",
       "      <td>Clean and funny. A bit busy with all the diffe...</td>\n",
       "      <td>3</td>\n",
       "      <td>clean and funny a bit busy with all the differ...</td>\n",
       "    </tr>\n",
       "    <tr>\n",
       "      <th>1</th>\n",
       "      <td>984</td>\n",
       "      <td>Alex a sexy hot cop and the PhD candidate. Wha...</td>\n",
       "      <td>4</td>\n",
       "      <td>alex a sexy hot cop and the phd candidate what...</td>\n",
       "    </tr>\n",
       "    <tr>\n",
       "      <th>2</th>\n",
       "      <td>1463</td>\n",
       "      <td>Good thing that this is a free story. I read i...</td>\n",
       "      <td>1</td>\n",
       "      <td>good thing that this is a free story i read it...</td>\n",
       "    </tr>\n",
       "    <tr>\n",
       "      <th>3</th>\n",
       "      <td>10342</td>\n",
       "      <td>Action, action, action! Equipment keeps gettin...</td>\n",
       "      <td>4</td>\n",
       "      <td>action action action equipment keeps getting b...</td>\n",
       "    </tr>\n",
       "    <tr>\n",
       "      <th>4</th>\n",
       "      <td>5256</td>\n",
       "      <td>this was hands down the worse book i have ever...</td>\n",
       "      <td>1</td>\n",
       "      <td>this was hands down the worse book i have ever...</td>\n",
       "    </tr>\n",
       "  </tbody>\n",
       "</table>\n",
       "</div>"
      ],
      "text/plain": [
       "   index                                         reviewText  rating  \\\n",
       "0  11494  Clean and funny. A bit busy with all the diffe...       3   \n",
       "1    984  Alex a sexy hot cop and the PhD candidate. Wha...       4   \n",
       "2   1463  Good thing that this is a free story. I read i...       1   \n",
       "3  10342  Action, action, action! Equipment keeps gettin...       4   \n",
       "4   5256  this was hands down the worse book i have ever...       1   \n",
       "\n",
       "                                    reviewText_clean  \n",
       "0  clean and funny a bit busy with all the differ...  \n",
       "1  alex a sexy hot cop and the phd candidate what...  \n",
       "2  good thing that this is a free story i read it...  \n",
       "3  action action action equipment keeps getting b...  \n",
       "4  this was hands down the worse book i have ever...  "
      ]
     },
     "execution_count": 7,
     "metadata": {},
     "output_type": "execute_result"
    }
   ],
   "source": [
    "data.head()"
   ]
  },
  {
   "cell_type": "code",
   "execution_count": 8,
   "id": "f9ad427e-312f-4e19-a6cc-0b4dafb3f344",
   "metadata": {},
   "outputs": [],
   "source": [
    "vader_sentiment = SentimentIntensityAnalyzer()"
   ]
  },
  {
   "cell_type": "code",
   "execution_count": 9,
   "id": "d1fc212a-1ffe-498a-9fcb-cf89dcf68cda",
   "metadata": {},
   "outputs": [],
   "source": [
    "data['vader_sentiment_score'] = data['reviewText_clean'].apply(lambda review: vader_sentiment.polarity_scores(review)['compound'])\n",
    "                                                               "
   ]
  },
  {
   "cell_type": "code",
   "execution_count": 10,
   "id": "aecad3b4-2a56-4b91-ba29-97ef8bab5df9",
   "metadata": {},
   "outputs": [
    {
     "data": {
      "text/html": [
       "<div>\n",
       "<style scoped>\n",
       "    .dataframe tbody tr th:only-of-type {\n",
       "        vertical-align: middle;\n",
       "    }\n",
       "\n",
       "    .dataframe tbody tr th {\n",
       "        vertical-align: top;\n",
       "    }\n",
       "\n",
       "    .dataframe thead th {\n",
       "        text-align: right;\n",
       "    }\n",
       "</style>\n",
       "<table border=\"1\" class=\"dataframe\">\n",
       "  <thead>\n",
       "    <tr style=\"text-align: right;\">\n",
       "      <th></th>\n",
       "      <th>index</th>\n",
       "      <th>reviewText</th>\n",
       "      <th>rating</th>\n",
       "      <th>reviewText_clean</th>\n",
       "      <th>vader_sentiment_score</th>\n",
       "    </tr>\n",
       "  </thead>\n",
       "  <tbody>\n",
       "    <tr>\n",
       "      <th>0</th>\n",
       "      <td>11494</td>\n",
       "      <td>Clean and funny. A bit busy with all the diffe...</td>\n",
       "      <td>3</td>\n",
       "      <td>clean and funny a bit busy with all the differ...</td>\n",
       "      <td>0.7684</td>\n",
       "    </tr>\n",
       "    <tr>\n",
       "      <th>1</th>\n",
       "      <td>984</td>\n",
       "      <td>Alex a sexy hot cop and the PhD candidate. Wha...</td>\n",
       "      <td>4</td>\n",
       "      <td>alex a sexy hot cop and the phd candidate what...</td>\n",
       "      <td>0.9325</td>\n",
       "    </tr>\n",
       "    <tr>\n",
       "      <th>2</th>\n",
       "      <td>1463</td>\n",
       "      <td>Good thing that this is a free story. I read i...</td>\n",
       "      <td>1</td>\n",
       "      <td>good thing that this is a free story i read it...</td>\n",
       "      <td>0.6740</td>\n",
       "    </tr>\n",
       "    <tr>\n",
       "      <th>3</th>\n",
       "      <td>10342</td>\n",
       "      <td>Action, action, action! Equipment keeps gettin...</td>\n",
       "      <td>4</td>\n",
       "      <td>action action action equipment keeps getting b...</td>\n",
       "      <td>0.6652</td>\n",
       "    </tr>\n",
       "    <tr>\n",
       "      <th>4</th>\n",
       "      <td>5256</td>\n",
       "      <td>this was hands down the worse book i have ever...</td>\n",
       "      <td>1</td>\n",
       "      <td>this was hands down the worse book i have ever...</td>\n",
       "      <td>-0.4767</td>\n",
       "    </tr>\n",
       "  </tbody>\n",
       "</table>\n",
       "</div>"
      ],
      "text/plain": [
       "   index                                         reviewText  rating  \\\n",
       "0  11494  Clean and funny. A bit busy with all the diffe...       3   \n",
       "1    984  Alex a sexy hot cop and the PhD candidate. Wha...       4   \n",
       "2   1463  Good thing that this is a free story. I read i...       1   \n",
       "3  10342  Action, action, action! Equipment keeps gettin...       4   \n",
       "4   5256  this was hands down the worse book i have ever...       1   \n",
       "\n",
       "                                    reviewText_clean  vader_sentiment_score  \n",
       "0  clean and funny a bit busy with all the differ...                 0.7684  \n",
       "1  alex a sexy hot cop and the phd candidate what...                 0.9325  \n",
       "2  good thing that this is a free story i read it...                 0.6740  \n",
       "3  action action action equipment keeps getting b...                 0.6652  \n",
       "4  this was hands down the worse book i have ever...                -0.4767  "
      ]
     },
     "execution_count": 10,
     "metadata": {},
     "output_type": "execute_result"
    }
   ],
   "source": [
    "data.head()"
   ]
  },
  {
   "cell_type": "code",
   "execution_count": 11,
   "id": "d9f7e2f4-d7e3-449e-ab4e-398cda24d8c1",
   "metadata": {},
   "outputs": [],
   "source": [
    "bins = [-1, -0.1, 0.1, 1]\n",
    "names = ['negative', 'neutral', 'postivie']\n",
    "\n",
    "data['vader_sentiment_label'] = pd.cut(data['vader_sentiment_score'], bins, labels=names)"
   ]
  },
  {
   "cell_type": "code",
   "execution_count": 12,
   "id": "cbeb3de3-d499-4842-82c8-133490206935",
   "metadata": {},
   "outputs": [
    {
     "data": {
      "text/plain": [
       "<Axes: xlabel='vader_sentiment_label'>"
      ]
     },
     "execution_count": 12,
     "metadata": {},
     "output_type": "execute_result"
    },
    {
     "data": {
      "image/png": "[encoded data removed]",
      "text/plain": [
       "<Figure size 640x480 with 1 Axes>"
      ]
     },
     "metadata": {},
     "output_type": "display_data"
    }
   ],
   "source": [
    "data['vader_sentiment_label'].value_counts().plot.bar()"
   ]
  },
  {
   "cell_type": "code",
   "execution_count": 13,
   "id": "ea99d60a-24ea-46be-a809-744f85564f9b",
   "metadata": {},
   "outputs": [
    {
     "name": "stderr",
     "output_type": "stream",
     "text": [
      "No model was supplied, defaulted to distilbert/distilbert-base-uncased-finetuned-sst-2-english and revision 714eb0f (https://huggingface.co/distilbert/distilbert-base-uncased-finetuned-sst-2-english).\n",
      "Using a pipeline without specifying a model name and revision in production is not recommended.\n"
     ]
    },
    {
     "name": "stdout",
     "output_type": "stream",
     "text": [
      "WARNING:tensorflow:From C:\\Users\\mohammed.alsalhi.HQ0\\AppData\\Local\\anaconda3\\Lib\\site-packages\\tf_keras\\src\\losses.py:2976: The name tf.losses.sparse_softmax_cross_entropy is deprecated. Please use tf.compat.v1.losses.sparse_softmax_cross_entropy instead.\n",
      "\n"
     ]
    },
    {
     "name": "stderr",
     "output_type": "stream",
     "text": [
      "Device set to use cpu\n"
     ]
    }
   ],
   "source": [
    "transformer_pipeline = pipeline(\"sentiment-analysis\")"
   ]
  },
  {
   "cell_type": "code",
   "execution_count": 14,
   "id": "9416278c-39f0-493e-bac5-2ca30818e352",
   "metadata": {},
   "outputs": [],
   "source": [
    "transformer_labels = []\n",
    "\n",
    "for review in data['reviewText_clean'].values:\n",
    "    sentiment_list = transformer_pipeline(review)\n",
    "    sentiment_label = [sent['label'] for sent in sentiment_list]\n",
    "    transformer_labels.append(sentiment_label)"
   ]
  },
  {
   "cell_type": "code",
   "execution_count": 15,
   "id": "7e764506-1714-4701-a386-8758ac7aaa46",
   "metadata": {},
   "outputs": [],
   "source": [
    "data['transformer_sentiment_label'] = transformer_labels"
   ]
  },
  {
   "cell_type": "code",
   "execution_count": 16,
   "id": "8d4e7207-6f19-4c28-b91e-9de63832c6c1",
   "metadata": {},
   "outputs": [
    {
     "data": {
      "text/plain": [
       "<Axes: xlabel='transformer_sentiment_label'>"
      ]
     },
     "execution_count": 16,
     "metadata": {},
     "output_type": "execute_result"
    },
    {
     "data": {
      "image/png": "[encoded data removed]",
      "text/plain": [
       "<Figure size 640x480 with 1 Axes>"
      ]
     },
     "metadata": {},
     "output_type": "display_data"
    }
   ],
   "source": [
    "data['transformer_sentiment_label'].value_counts().plot.bar()"
   ]
  }
 ],
 "metadata": {
  "kernelspec": {
   "display_name": "Python 3 (ipykernel)",
   "language": "python",
   "name": "python3"
  },
  "language_info": {
   "codemirror_mode": {
    "name": "ipython",
    "version": 3
   },
   "file_extension": ".py",
   "mimetype": "text/x-python",
   "name": "python",
   "nbconvert_exporter": "python",
   "pygments_lexer": "ipython3",
   "version": "3.13.5"
  }
 },
 "nbformat": 4,
 "nbformat_minor": 5
}
